{
 "cells": [
  {
   "cell_type": "code",
   "execution_count": null,
   "id": "1b42e89c",
   "metadata": {},
   "outputs": [
    {
     "name": "stdout",
     "output_type": "stream",
     "text": [
      "✅ OCLC numbers have been extracted and saved.\n",
      " - Regular records: C:/Users/mchung94/Downloads/OCLCNumbers.xml\n",
      " - Online records: C:/Users/mchung94/Downloads/OCLCNumbers_NotImported_online.xml\n"
     ]
    }
   ],
   "source": [
    "\n",
    "\n",
    "\n",
    "\n",
    "import re\n",
    "import xml.etree.ElementTree as ET\n",
    "\n",
    "# Input and output paths\n",
    "input_file = r\"C:/Users/mchung94/Downloads/file_0.xml\"\n",
    "output_file_regular = r\"C:/Users/mchung94/Downloads/OCLCNumbers_Nomatch_print.xml\"\n",
    "output_file_online = r\"C:/Users/mchung94/Downloads/OCLCNumbers_Nomatch_online.xml\"\n",
    "\n",
    "# Parse XML\n",
    "tree = ET.parse(input_file)\n",
    "root = tree.getroot()\n",
    "\n",
    "# Regex for extracting OCLC number\n",
    "pattern = re.compile(r\"\\(OCoLC\\)(\\d+)\")\n",
    "\n",
    "# Two lists for output\n",
    "oclc_regular = []\n",
    "oclc_online = []\n",
    "\n",
    "# Loop through each record\n",
    "for record in root.iter(\"record\"):\n",
    "    # Normalize 006 fields\n",
    "    control006 = [\n",
    "        (cf.text or \"\").strip() for cf in record.findall(\"controlfield\") if cf.get(\"tag\") == \"006\"\n",
    "    ]\n",
    "    # Online check: if any 006 starts with \"m\"\"\n",
    "    is_online = any(txt.startswith(\"m\") for txt in control006)\n",
    "\n",
    "    # Collect OCLC numbers from subfield code=\"a\"\n",
    "    record_numbers = []\n",
    "    for subfield in record.iter(\"subfield\"):\n",
    "        if subfield.get(\"code\") == \"a\":\n",
    "            match = pattern.search(subfield.text or \"\")\n",
    "            if match:\n",
    "                record_numbers.append(match.group(1))\n",
    "    \n",
    "    # Put the record's numbers into the correct file list\n",
    "    if record_numbers:\n",
    "        if is_online:\n",
    "            oclc_online.extend(record_numbers)\n",
    "        else:\n",
    "            oclc_regular.extend(record_numbers)\n",
    "\n",
    "# Function to write plain text XML list\n",
    "def write_xml(filepath, numbers):\n",
    "    with open(filepath, \"w\", encoding=\"utf-8\") as f:\n",
    "        f.write('<?xml version=\"1.0\" encoding=\"utf-8\"?>\\n')\n",
    "        f.write(\"<OCLCNumbers>\\n\")\n",
    "        for num in numbers:\n",
    "            f.write(f\"{num}\\n\")\n",
    "        f.write(\"</OCLCNumbers>\\n\")\n",
    "\n",
    "# Write files\n",
    "if oclc_regular:\n",
    "    write_xml(output_file_regular, oclc_regular)\n",
    "if oclc_online:\n",
    "    write_xml(output_file_online, oclc_online)\n",
    "\n",
    "print(\"✅ OCLC numbers have been extracted and saved.\")\n",
    "if oclc_regular:\n",
    "    print(f\" - Regular records: {output_file_regular}\")\n",
    "if oclc_online:\n",
    "    print(f\" - Online records: {output_file_online}\")\n"
   ]
  }
 ],
 "metadata": {
  "kernelspec": {
   "display_name": "Python 3",
   "language": "python",
   "name": "python3"
  },
  "language_info": {
   "codemirror_mode": {
    "name": "ipython",
    "version": 3
   },
   "file_extension": ".py",
   "mimetype": "text/x-python",
   "name": "python",
   "nbconvert_exporter": "python",
   "pygments_lexer": "ipython3",
   "version": "3.13.7"
  }
 },
 "nbformat": 4,
 "nbformat_minor": 5
}
